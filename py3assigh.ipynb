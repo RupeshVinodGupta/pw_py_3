{
  "metadata": {
    "kernelspec": {
      "name": "python",
      "display_name": "Python (Pyodide)",
      "language": "python"
    },
    "language_info": {
      "codemirror_mode": {
        "name": "python",
        "version": 3
      },
      "file_extension": ".py",
      "mimetype": "text/x-python",
      "name": "python",
      "nbconvert_exporter": "python",
      "pygments_lexer": "ipython3",
      "version": "3.8"
    }
  },
  "nbformat_minor": 4,
  "nbformat": 4,
  "cells": [
    {
      "cell_type": "raw",
      "source": "Here’s the Python implementation for each of the questions:\n\n---\n\n### **Q1. Create an empty list**\n```python\n# Creating an empty list\nempty_list = []\nprint(empty_list)  # Output: []\n```\n\n---\n\n### **Q2. Create a list and add an element to the end of this list\n```python\n# Creating a list\nmy_list = [1, 2, 3]\n\n# Adding an element to the end\nmy_list.append(4)\nprint(my_list)  # Output: [1, 2, 3, 4]\n```\n\n---\n\nQ3. For the above created list, print the last element**\n```python\n# Printing the last element\nprint(my_list[-1])  # Output: 4\n```\n\n---\n\nQ4. Reverse the above created list\n```python\n# Reversing the list\nmy_list.reverse()\nprint(my_list)  # Output: [4, 3, 2, 1]\n```\n\n---\n\nQ5. Sort the above created list\n```python\n# Sorting the list\nmy_list.sort()\nprint(my_list)  # Output: [1, 2, 3, 4]\n```\n\n---\n\nQ6. Create a list of your top three favorite movies, then print the second movie title\n```python\n# Creating a list of favorite movies\nfavorite_movies = [\"Inception\", \"The Dark Knight\", \"Interstellar\"]\n\n# Printing the second movie\nprint(favorite_movies[1])  # Output: The Dark Knight\n```\n\n---\n\nQ7. Create a list of your favorite animals, then add a new animal to the list and print the updated list\n```python\n# Creating a list of favorite animals\nfavorite_animals = [\"Dog\", \"Cat\", \"Elephant\"]\n\n# Adding a new animal\nfavorite_animals.append(\"Tiger\")\nprint(favorite_animals)  # Output: [\"Dog\", \"Cat\", \"Elephant\", \"Tiger\"]\n```\n\n---\n\nQ8. Create a list of your favorite cities, then use the index() method to find the position of a specific city on the list and print it\n```python\n# Creating a list of favorite cities\nfavorite_cities = [\"Mumbai\", \"Paris\", \"New York\", \"Tokyo\"]\n\n# Finding the index of a specific city\ncity_index = favorite_cities.index(\"Paris\")\nprint(city_index)  # Output: 1\n```\n\n---",
      "metadata": {}
    }
  ]
}